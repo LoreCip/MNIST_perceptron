{
 "cells": [
  {
   "cell_type": "code",
   "execution_count": 1,
   "id": "8a2c0b37",
   "metadata": {
    "code_folding": []
   },
   "outputs": [],
   "source": [
    "import numpy as np\n",
    "import matplotlib.pyplot as plt\n",
    "\n",
    "def get_mnist():\n",
    "    with np.load(f\"mnist.npz\") as f:\n",
    "        images, labels = f[\"x_train\"], f[\"y_train\"]\n",
    "    images = images.astype(\"float32\") / 255\n",
    "    images = np.reshape(images, (images.shape[0], images.shape[1] * images.shape[2]))\n",
    "    labels = np.eye(10)[labels]\n",
    "    return images, labels\n",
    "\n",
    "def convert_to_input(img):\n",
    "    from PIL import Image\n",
    "    im1 = Image.open(img)\n",
    "    return ( 255 - np.array(im1.getdata(0)) )/ 255\n",
    "\n",
    "class Perceptron():\n",
    "    def __init__(self, Nodes):\n",
    "        # The weights are between -1 and 1 at the beginning\n",
    "        self.nodes_list = Nodes\n",
    "        self.weights = self.weights_init()\n",
    "        self.guessed = {}\n",
    "        \n",
    "    def weights_init(self):\n",
    "        out = {}\n",
    "        for i in range(1, len(self.nodes_list)):\n",
    "            w = np.array(2 * np.random.rand(self.nodes_list[i], self.nodes_list[i-1]) - 1)\n",
    "            b = np.array(2 * np.random.rand(self.nodes_list[i], 1                   ) - 1)\n",
    "            key_1 = 'w{}'.format(i)\n",
    "            key_2 = 'b{}'.format(i)\n",
    "            out[key_1] = w\n",
    "            out[key_2] = b\n",
    "        return out\n",
    "    \n",
    "    def train(self, training_input, training_output, training_iterations):\n",
    "        for it in range(training_iterations):\n",
    "            key_t = 't{}'.format(it)\n",
    "            self.guessed[key_t] = 0\n",
    "            for L0, Llast_Train in zip(training_input, training_output):\n",
    "                L0 = np.array(L0, ndmin=2)\n",
    "                \n",
    "                steps_dict  = {}            \n",
    "                prev_key_L = 'L0'\n",
    "                steps_dict[prev_key_L] = L0\n",
    "                for i in range(1,len(self.nodes_list)):\n",
    "                    key_L = 'L{}'.format(i)\n",
    "                    key_w = 'w{}'.format(i)\n",
    "                    key_b = 'b{}'.format(i)\n",
    "                    steps_dict[key_L] = self.step(steps_dict[prev_key_L], self.weights[key_w], self.weights[key_b])\n",
    "                    \n",
    "                    prev_key_L = key_L\n",
    "                \n",
    "                self.guessed[key_t] += int(np.argmax(steps_dict[key_L]) == np.argmax(Llast_Train))\n",
    "                \n",
    "                errors_dict = {}\n",
    "                deltas_dict = {}\n",
    "                \n",
    "                prev_key_e = 'e{}'.format(len(self.nodes_list)-1)    \n",
    "                prev_key_d = 'd{}'.format(len(self.nodes_list)-1)    \n",
    "                errors_dict[prev_key_e] = Llast_Train - steps_dict[key_L]\n",
    "                deltas_dict[prev_key_d] = self.delta(errors_dict[prev_key_e], steps_dict[key_L])\n",
    "                for i in range(len(self.nodes_list)-2,-1,-1):\n",
    "                    key_e = 'e{}'.format(i)\n",
    "                    key_d = 'd{}'.format(i)\n",
    "                    key_w = 'w{}'.format(i+1)\n",
    "                    key_L = 'L{}'.format(i)\n",
    "                    errors_dict[key_e] = np.dot(deltas_dict[prev_key_d], self.weights[key_w])\n",
    "                    deltas_dict[key_d] = self.delta(errors_dict[key_e], steps_dict[key_L])\n",
    "                    \n",
    "                    prev_key_d = key_d\n",
    "                \n",
    "                for i in range(len(self.nodes_list)-2,-1,-1):\n",
    "                    key_w = 'w{}'.format(i+1)\n",
    "                    key_L = 'L{}'.format(i)\n",
    "                    key_d = 'd{}'.format(i+1)\n",
    "                    key_b = 'b{}'.format(i+1)\n",
    "                    self.weights[key_w] += np.dot(steps_dict[key_L].T, deltas_dict[key_d]).T\n",
    "                    self.weights[key_b] += np.dot(1, deltas_dict[key_d]).T\n",
    "            self.guessed[key_t] = self.guessed[key_t] / len(training_input)\n",
    "            print(f'In the epoch number {it+1}, {round(self.guessed[key_t]*100, 2)} percent of the training inputs were guessed right.')\n",
    "\n",
    "        \n",
    "        \n",
    "    def step(self, layer_in, weights, bias):\n",
    "        layer_out = self.norm( np.dot(layer_in , weights.T)  + bias.T )\n",
    "        return layer_out\n",
    "    \n",
    "    def guess(self, input_data):\n",
    "        out = input_data\n",
    "        for i in range(1,len(self.nodes_list)):\n",
    "            key_w = 'w{}'.format(i)\n",
    "            key_b = 'b{}'.format(i)\n",
    "            out = self.step(out, self.weights[key_w], self.weights[key_b])\n",
    "        return out\n",
    "    \n",
    "    def delta(self, error, output_layer):\n",
    "        return np.multiply(error, self.norm_deriv(output_layer))\n",
    "\n",
    "    def norm(self, x):\n",
    "        return 1 / (1 + np.exp(-x))\n",
    "\n",
    "    def norm_deriv(self, x):\n",
    "        return x * (1 - x)\n",
    "\n",
    "    \n",
    "    \n",
    "images, labels = get_mnist()"
   ]
  },
  {
   "cell_type": "code",
   "execution_count": 2,
   "id": "0ad5a609",
   "metadata": {},
   "outputs": [
    {
     "name": "stdout",
     "output_type": "stream",
     "text": [
      "In the epoch number 1, 89.41 percent of the training inputs were guessed right.\n",
      "In the epoch number 2, 92.75 percent of the training inputs were guessed right.\n",
      "In the epoch number 3, 93.58 percent of the training inputs were guessed right.\n",
      "In the epoch number 4, 93.71 percent of the training inputs were guessed right.\n"
     ]
    }
   ],
   "source": [
    "HiddenNodes = [784, 40, 10]\n",
    "N = Perceptron(HiddenNodes)\n",
    "\n",
    "training_inputs = images[:59500]\n",
    "training_output = labels[:59500]\n",
    "training_iterations = 4\n",
    "\n",
    "test_inputs = images[59500:]\n",
    "test_output = labels[59500:]\n",
    "\n",
    "N.train(training_inputs, training_output, training_iterations)"
   ]
  },
  {
   "cell_type": "code",
   "execution_count": 3,
   "id": "2ef72e97",
   "metadata": {},
   "outputs": [
    {
     "data": {
      "image/png": "[encoded data removed]",
      "text/plain": [
       "<Figure size 432x288 with 1 Axes>"
      ]
     },
     "metadata": {
      "needs_background": "light"
     },
     "output_type": "display_data"
    }
   ],
   "source": [
    "img_from_file    = convert_to_input('test/1.png')\n",
    "output_from_file =1\n",
    "\n",
    "output = N.guess(img_from_file)\n",
    "plt.imshow(img_from_file.reshape(28, 28), cmap=\"Greys\")\n",
    "plt.title(f\"Is it a {output.argmax()}? It should be a {output_from_file}.\");"
   ]
  },
  {
   "cell_type": "code",
   "execution_count": 7,
   "id": "b9e8dabf",
   "metadata": {},
   "outputs": [
    {
     "data": {
      "image/png": "[encoded data removed]",
      "text/plain": [
       "<Figure size 432x288 with 1 Axes>"
      ]
     },
     "metadata": {
      "needs_background": "light"
     },
     "output_type": "display_data"
    }
   ],
   "source": [
    "index = np.random.randint(59500, 60000+1)\n",
    "\n",
    "img = images[index]\n",
    "lbl = labels[index]\n",
    "\n",
    "output = N.guess(img)\n",
    "\n",
    "plt.imshow(img.reshape(28, 28), cmap=\"Greys\")\n",
    "plt.title(f\"Is it a {output.argmax()}? It should be a {lbl.argmax()}.\")\n",
    "plt.show()"
   ]
  },
  {
   "cell_type": "code",
   "execution_count": null,
   "id": "83aa7137",
   "metadata": {},
   "outputs": [],
   "source": []
  },
  {
   "cell_type": "code",
   "execution_count": null,
   "id": "50c543d8",
   "metadata": {},
   "outputs": [],
   "source": []
  }
 ],
 "metadata": {
  "kernelspec": {
   "display_name": "Python 3 (ipykernel)",
   "language": "python",
   "name": "python3"
  },
  "language_info": {
   "codemirror_mode": {
    "name": "ipython",
    "version": 3
   },
   "file_extension": ".py",
   "mimetype": "text/x-python",
   "name": "python",
   "nbconvert_exporter": "python",
   "pygments_lexer": "ipython3",
   "version": "3.8.10"
  },
  "varInspector": {
   "cols": {
    "lenName": 16,
    "lenType": 16,
    "lenVar": 40
   },
   "kernels_config": {
    "python": {
     "delete_cmd_postfix": "",
     "delete_cmd_prefix": "del ",
     "library": "var_list.py",
     "varRefreshCmd": "print(var_dic_list())"
    },
    "r": {
     "delete_cmd_postfix": ") ",
     "delete_cmd_prefix": "rm(",
     "library": "var_list.r",
     "varRefreshCmd": "cat(var_dic_list()) "
    }
   },
   "types_to_exclude": [
    "module",
    "function",
    "builtin_function_or_method",
    "instance",
    "_Feature"
   ],
   "window_display": false
  }
 },
 "nbformat": 4,
 "nbformat_minor": 5
}
